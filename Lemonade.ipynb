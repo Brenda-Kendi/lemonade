{
 "cells": [
  {
   "cell_type": "code",
   "execution_count": 1,
   "metadata": {
    "scrolled": false
   },
   "outputs": [
    {
     "name": "stdout",
     "output_type": "stream",
     "text": [
      "           Date        Day  Temperature  Rainfall  Flyers  Price  Sales\n",
      "0    01/01/2017     Sunday         27.0      2.00      15    0.3     10\n",
      "1    02/01/2017     Monday         28.9      1.33      15    0.3     13\n",
      "2    03/01/2017    Tuesday         34.5      1.33      27    0.3     15\n",
      "3    04/01/2017  Wednesday         44.1      1.05      28    0.3     17\n",
      "4    05/01/2017   Thursday         42.4      1.00      33    0.3     18\n",
      "..          ...        ...          ...       ...     ...    ...    ...\n",
      "360  27/12/2017  Wednesday         42.7      1.00      33    0.3     19\n",
      "361  28/12/2017   Thursday         37.8      1.25      32    0.3     16\n",
      "362  29/12/2017     Friday         39.5      1.25      17    0.3     15\n",
      "363  30/12/2017   Saturday         30.9      1.43      22    0.3     13\n",
      "364  31/12/2017     Sunday         15.1      2.50       9    0.3      7\n",
      "\n",
      "[365 rows x 7 columns]\n"
     ]
    }
   ],
   "source": [
    "import pandas as pd\n",
    "df = pd.read_csv('Lemonade.csv')\n",
    "print(df)"
   ]
  },
  {
   "cell_type": "code",
   "execution_count": 2,
   "metadata": {},
   "outputs": [
    {
     "name": "stdout",
     "output_type": "stream",
     "text": [
      "       Temperature       Sales\n",
      "count   365.000000  365.000000\n",
      "mean     60.731233   25.323288\n",
      "std      16.196266    6.893589\n",
      "min      15.100000    7.000000\n",
      "25%      49.700000   20.000000\n",
      "50%      61.100000   25.000000\n",
      "75%      71.300000   30.000000\n",
      "max     102.900000   43.000000\n",
      "\n",
      "Correlation:\n",
      "0.9898320849779698\n"
     ]
    },
    {
     "data": {
      "image/png": "[encoded data removed]",
      "text/plain": [
       "<Figure size 432x288 with 1 Axes>"
      ]
     },
     "metadata": {
      "needs_background": "light"
     },
     "output_type": "display_data"
    }
   ],
   "source": [
    "%matplotlib inline\n",
    "from matplotlib import pyplot as plt\n",
    "# Print statistics for Temperature and Sales\n",
    "print(df[['Temperature','Sales']].describe())\n",
    "# Print correlation for temperature vs Sales\n",
    "print('\\nCorrelation:')\n",
    "print(df['Temperature'].corr(df['Sales']))\n",
    "# Plot Temperature vs Sales\n",
    "plt.xlabel('Temperature')\n",
    "plt.ylabel('Sales')\n",
    "plt.grid()\n",
    "plt.scatter(df['Temperature'],df['Sales'])\n",
    "plt.show()"
   ]
  }
 ],
 "metadata": {
  "kernelspec": {
   "display_name": "Python 3",
   "language": "python",
   "name": "python3"
  },
  "language_info": {
   "codemirror_mode": {
    "name": "ipython",
    "version": 3
   },
   "file_extension": ".py",
   "mimetype": "text/x-python",
   "name": "python",
   "nbconvert_exporter": "python",
   "pygments_lexer": "ipython3",
   "version": "3.8.3"
  }
 },
 "nbformat": 4,
 "nbformat_minor": 4
}
